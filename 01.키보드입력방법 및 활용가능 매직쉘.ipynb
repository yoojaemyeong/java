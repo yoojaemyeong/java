{
 "cells": [
  {
   "cell_type": "code",
   "execution_count": null,
   "id": "f4d4799c-1f1d-406d-b86d-2ee502551b2c",
   "metadata": {},
   "outputs": [],
   "source": [
    "import java.util.Scanner;\n",
    "\n",
    "System.out.print(\"이름을 입력하세요: \");\n",
    "System.out.flush();                  // ▶ 프롬프트가 화면에 보이도록 강제 flush\n",
    "Scanner sc = new Scanner(System.in); // ▶ stdin 요청 (Jupyter가 입력창을 띄움)\n",
    "String name = sc.nextLine();\n",
    "System.out.println(\"안녕하세요, \" + name + \"님!\");\n"
   ]
  },
  {
   "cell_type": "code",
   "execution_count": null,
   "id": "64bb66e1-33f5-41ab-82ee-26009e208ab0",
   "metadata": {},
   "outputs": [],
   "source": []
  },
  {
   "cell_type": "code",
   "execution_count": null,
   "id": "edb154f6-c36a-4749-ae3e-30d8b02ba437",
   "metadata": {},
   "outputs": [],
   "source": []
  },
  {
   "cell_type": "markdown",
   "id": "83e9c458-62bb-4d74-8c63-ab1d51dc76f4",
   "metadata": {},
   "source": [
    "# 자바커널(IJava)에서 활용 가능한 매직 명령어\n",
    "* 의존성/클래스패스 관리에 활용\n",
    "\n",
    "1. **`%maven`** (별칭: `addMavenDependencies`, `addMavenDependency`)\n",
    "   > Maven Central 등에서 **라이브러리를 즉시 받아와 클래스패스에 추가**    \n",
    "   > [참조사이트 https://github.com/SpencerPark/IJava](https://github.com/SpencerPark/IJava)\n",
    "   \n",
    "\n",
    "   ```java\n",
    "   %maven org.apache.commons:commons-math3:3.6.1\n",
    "   %maven com.google.code.gson:gson:2.11.0\n",
    "   ```\n",
    "\n",
    "3. **`%mavenRepo`** (별칭: `addMavenRepo`)\n",
    "   > 중앙 저장소 외 **추가 저장소**를 등록합니다. 예: JitPack, 사내 Nexus 등.    \n",
    "   > [참조사이트 https://daobook.github.io/IJava/docs/magics.html?utm_source=chatgpt.com](https://daobook.github.io/IJava/docs/magics.html?utm_source=chatgpt.com)\n",
    "   \n",
    "\n",
    "   ```java\n",
    "   %mavenRepo jitpack https://jitpack.io\n",
    "   %maven com.github.user:lib:1.0.0\n",
    "   ```\n",
    "\n",
    "5. **`%%loadFromPOM`** (셀 매직 & 라인 매직)\n",
    "   > 셀에 **POM 조각**을 붙여 넣어 의존성/저장소를 한 번에 추가(README나 문서에서 그대로 복붙하기 좋음)    \n",
    "   > [참조사이트 Stack Overflow](https://stackoverflow.com/questions/54654434/how-to-embed-tablesaw-graph-in-jupyter-notebook-with-ijava-kernel?utm_source=chatgpt.com)\n",
    "   \n",
    "\n",
    "   ```java\n",
    "   %%loadFromPOM\n",
    "   <repository>\n",
    "     <id>jitpack.io</id>\n",
    "     <url>https://jitpack.io</url>\n",
    "   </repository>\n",
    "   <dependency>\n",
    "     <groupId>tech.tablesaw</groupId>\n",
    "     <artifactId>tablesaw-core</artifactId>\n",
    "     <version>0.47.0</version>\n",
    "   </dependency>\n",
    "   ```\n",
    "\n",
    "7. **`%jars`**\n",
    "   > 로컬 디스크의 **JAR 파일을 추가**(와일드카드, 디렉터리 지원). Maven에 없거나 사내용 JAR에 유용\n",
    "   \n",
    "   \n",
    "\n",
    "   ```java\n",
    "   %jars /home/jovyan/libs/my-utils.jar\n",
    "   %jars ./lib/*.jar\n",
    "   ```\n",
    "\n",
    "8. **`%classpath`**\n",
    "   > **디렉터리나 JAR 경로를 클래스패스에 직접 추가** (여러 경로 가능)  \n",
    "\n",
    "   ```java\n",
    "   %classpath ./target/classes ./thirdparty/*.jar\n",
    "   ```\n"
   ]
  },
  {
   "cell_type": "code",
   "execution_count": 5,
   "id": "adc9c750-5c59-4b19-bf14-c19dbb7861cc",
   "metadata": {},
   "outputs": [],
   "source": [
    "%maven com.google.code.gson:gson:2.11.0"
   ]
  },
  {
   "cell_type": "code",
   "execution_count": null,
   "id": "773be4e9-b473-4e1f-8cc3-0658dd818698",
   "metadata": {},
   "outputs": [],
   "source": []
  }
 ],
 "metadata": {
  "kernelspec": {
   "display_name": "Java",
   "language": "java",
   "name": "java"
  },
  "language_info": {
   "codemirror_mode": "java",
   "file_extension": ".jshell",
   "mimetype": "text/x-java-source",
   "name": "Java",
   "pygments_lexer": "java",
   "version": "21.0.8+9-Ubuntu-0ubuntu122.04.1"
  }
 },
 "nbformat": 4,
 "nbformat_minor": 5
}
