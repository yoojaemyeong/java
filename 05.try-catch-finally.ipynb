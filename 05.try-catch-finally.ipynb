{
 "cells": [
  {
   "cell_type": "markdown",
   "id": "18224c2f-a4c6-4009-b12c-0ff58eca4a8f",
   "metadata": {},
   "source": [
    "# 예외 처리, try-catch-finally 문\n",
    "```예외처리  \n",
    "try {\n",
    "  예외 상황 발생 가능성이 있는 실행문\n",
    "}catch (예외 타입 선언){\n",
    "  예외 처리문\n",
    "}finally{\n",
    "  예외 발생 여부와 상관없이 무조건 실행되는 문장\n",
    "}\n",
    "```  \n",
    "<hr>  \n",
    "\n",
    "<center><span style=\"color:blue;font-size:20px;font-weight:bold;\">자주 사용하는 예외 클래스</span></center>\n",
    "\n",
    "| 예외 클래스 | 예외 발생 경우 | 패키지 |  \n",
    "| ----- | ----- | ----- |  \n",
    "| ArithmaticException | 정수를 0으로 나눌 경우 | java.lang |  \n",
    "| NullPointerException | null 레퍼런스 참조할 때 | java.lang |  \n",
    "| ClassCastException | 변환할 수 없는 타입으로 객체 형변환시 | java.lang |  \n",
    "| OutOfMemoryException | 메모리가 부족할 때 | java.lang |  \n",
    "| ArrayIndexOutOfBoundsException | 배열의 범위를 초과할 때 | java.lang |  \n",
    "| IllegalArgumentException | 잘못된 인자 전달시 | java.lang |  \n",
    "| IOException | 입출력에러 또는 인터럽트 발생시 | java.io |  \n",
    "| NumberFormatException | 문자열이 나타내는 숫자와 일치하지 않는 타입으로 전환시 | java.lang |  \n",
    "| InputMismatchException | Scanner 입력시 일치하지 않는 타입이 입력될 때, 예로 숫자 입력시 문자가 입력될 때 | java.util |  \n",
    "\n"
   ]
  },
  {
   "cell_type": "code",
   "execution_count": 4,
   "id": "27db294a-37ca-4b0a-a115-b9c0b70f17fc",
   "metadata": {
    "tags": []
   },
   "outputs": [
    {
     "name": "stdout",
     "output_type": "stream",
     "text": [
      "배열 범위를 초과함\n",
      "프로그램 종료합니다.\n"
     ]
    }
   ],
   "source": [
    "int intArray[] = new int[5];\n",
    "try{\n",
    "    intArray[0] = 12;\n",
    "    intArray[5] = 20;\n",
    "}catch(ArrayIndexOutOfBoundsException e){\n",
    "    System.out.println(\"배열 범위를 초과함\");\n",
    "}finally{\n",
    "    System.out.println(\"프로그램 종료합니다.\");\n",
    "}"
   ]
  },
  {
   "cell_type": "code",
   "execution_count": null,
   "id": "d44fc551-81e6-4788-bd17-c6a4cb02122c",
   "metadata": {},
   "outputs": [],
   "source": []
  }
 ],
 "metadata": {
  "kernelspec": {
   "display_name": "Java",
   "language": "java",
   "name": "java"
  },
  "language_info": {
   "codemirror_mode": "java",
   "file_extension": ".jshell",
   "mimetype": "text/x-java-source",
   "name": "Java",
   "pygments_lexer": "java",
   "version": "21.0.8+9-Ubuntu-0ubuntu122.04.1"
  }
 },
 "nbformat": 4,
 "nbformat_minor": 5
}
