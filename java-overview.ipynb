{
 "cells": [
  {
   "cell_type": "markdown",
   "id": "9d226327-4fb7-4e38-abc2-8c78c609aa3e",
   "metadata": {
    "tags": []
   },
   "source": [
    "# 자바 : 객체 지향 - 캡슐화, 상속, 다형성  \n",
    "## 캡슐화(Encapsulation)  \n",
    "> <span style=\"color:blue;font-size:17px\">캡슐화란 객체를 캡슐로 싸서 내부를 보호하여 볼 수 없게 하는 것으로 객체의 본질적인 특징이다.</span>  \n",
    "> <span style=\"color:blue;font-size:17px\">class : 객체를 캡슐로 감싸는 표면</span>  \n",
    "> <span style=\"color:blue;font-size:17px\">필드 : 멤버 변수</span>  \n",
    "> <span style=\"color:blue;font-size:17px\">메소드 : 멤버 함수</span>  \n",
    "\n",
    "``` 클래스 \n",
    "class Animal {\n",
    "    String name;\n",
    "    int age;\n",
    "    void eat() {...}\n",
    "    void speak() {...}\n",
    "}\n",
    "```  \n",
    "## 상속(inheritance)  \n",
    "> <span style=\"color:blue;font-size:17px\">자바의 상속은 부모 클래스 속성을 자식 클래스가 물려받고 기능을 추가하여 확장(extends)하는 개념</span>  \n",
    "> <span style=\"color:blue;font-size:17px\">부모 클래스: 수퍼 클래스(super class) 지칭, 자식 클래스: 서브 클래스(sub class)</span>  \n",
    "> <span style=\"color:blue;font-size:17px\">상속: 수퍼 클래스의 필드와 메소드를 물려받아 코드를 재사용함으로 코드 작성의 시간과 비용을 절약</span>  \n",
    "\n",
    "``` 상속 \n",
    "class Animal {\n",
    "    String name;\n",
    "    int age;\n",
    "    void eat() {...}\n",
    "    void speak() {...}\n",
    "}\n",
    "\n",
    "class Dog extends Animal{\n",
    "    String color;\n",
    "    String working;\n",
    "    void shape() { ... }\n",
    "    void motion() { ... }\n",
    "}\n",
    "```  \n",
    "## 다형성(Polymorphism)  \n",
    "> <span style=\"color:blue;font-size:17px\">다형성은 같은 이름의 메소드가 클래스(객체)에 따라 다르게 동작하도록 구현되는 것을 의미</span>  \n",
    "> <span style=\"color:blue;font-size:17px\">예로, Animal 클래스를 상속받고, 소리내기(speak()) 메소드를 통해 강아지는 멍멍, 고양이는 야옹, 닭은 꼬꼬 등으로 구현</span>  \n",
    "> <span style=\"color:blue;font-size:17px\">오버라이딩(Overriding) : 위의 예처럼 자신의 특징에 맞게 구현하는 메소드</span>  \n",
    "> <span style=\"color:blue;font-size:17px\">오버로딩(Overloading) : 클래스내에 이름은 같지만 서로 다른 동작하는 메소드를 여러개 만드는 형태</span>  \n",
    "\n"
   ]
  },
  {
   "cell_type": "code",
   "execution_count": 4,
   "id": "f3fc248d-47dc-48a5-b9db-7091cb70ec04",
   "metadata": {},
   "outputs": [
    {
     "name": "stdout",
     "output_type": "stream",
     "text": [
      "맛있는피자의 면적은 314.0\n",
      "전대도넛의 면적은 28.259999999999998\n"
     ]
    }
   ],
   "source": [
    "public class Circle{\n",
    "    int radius;\n",
    "    String name;\n",
    "    public Circle(){}  // 기본 생성자, 매개변수 없고 아무 일 없이 단순 리턴\n",
    "    public double getArea(){\n",
    "        return 3.14*radius*radius;\n",
    "    }\n",
    "}\n",
    "\n",
    "Circle pizza = new Circle();\n",
    "pizza.radius = 10;\n",
    "pizza.name = \"맛있는피자\";\n",
    "System.out.println(pizza.name + \"의 면적은 \" + pizza.getArea());\n",
    "\n",
    "Circle donut = new Circle();\n",
    "donut.radius = 3;\n",
    "donut.name = \"전대도넛\";\n",
    "System.out.println(donut.name + \"의 면적은 \" + donut.getArea());\n"
   ]
  },
  {
   "cell_type": "code",
   "execution_count": 5,
   "id": "71acb031-3b49-4f48-8fac-6e46f9adc4b6",
   "metadata": {
    "tags": []
   },
   "outputs": [
    {
     "name": "stdout",
     "output_type": "stream",
     "text": [
      "넓이>> "
     ]
    },
    {
     "name": "stdin",
     "output_type": "stream",
     "text": [
      " 30\n"
     ]
    },
    {
     "name": "stdout",
     "output_type": "stream",
     "text": [
      "높이>> "
     ]
    },
    {
     "name": "stdin",
     "output_type": "stream",
     "text": [
      " 50\n"
     ]
    },
    {
     "name": "stdout",
     "output_type": "stream",
     "text": [
      "사격형의 면적: (가로)30 *(세로)50 = 1500\n"
     ]
    }
   ],
   "source": [
    "import java.util.Scanner;\n",
    "public class Rectangle{\n",
    "    int width;\n",
    "    int height;\n",
    "    public int getArea(){\n",
    "        return width*height;\n",
    "    }\n",
    "}\n",
    "\n",
    "Rectangle rect = new Rectangle();\n",
    "Scanner scanner = new Scanner(System.in);\n",
    "System.out.print(\"넓이>> \");\n",
    "rect.width = scanner.nextInt();\n",
    "System.out.print(\"높이>> \");\n",
    "rect.height = scanner.nextInt();\n",
    "System.out.println(\"사격형의 면적: (가로)\"+rect.width+\" *(세로)\"+rect.height+\" = \"+rect.getArea());\n",
    "scanner.close();\n"
   ]
  },
  {
   "cell_type": "markdown",
   "id": "82df3498-fcba-466d-9572-ac986b7a22ba",
   "metadata": {},
   "source": [
    "# 클래스 : 필드, 메소드, 접근 지정자(public, private, protected, default), 생성자    \n",
    "## 접근 지정자 : public, private, protected, default\n",
    "  \n",
    "  | <span style=\"color:blue;font-size:17px\">멤버에 접근하는 클래스</span> | <span style=\"color:blue;font-size:17px\">private</span> | <span style=\"color:blue;font-size:17px\">default(기본)</span> | <span style=\"color:blue;font-size:17px\">protected</span> | <span style=\"color:blue;font-size:17px\">public</span> |  \n",
    "  | ----- | :-----: | :-----: | :-----: | :-----: |  \n",
    "  | <span style=\"color:blue;font-size:17px\">같은 패키지의 클래스</span> | <span style=\"color:blue;font-size:17px\">X</span> | <span style=\"color:blue;font-size:17px\">○</span> | <span style=\"color:blue;font-size:17px\">○</span> | <span style=\"color:blue;font-size:17px\">○</span> |  \n",
    "  | <span style=\"color:blue;font-size:17px\">다른 패키지의 클래스</span> | <span style=\"color:blue;font-size:17px\">X</span> | <span style=\"color:blue;font-size:17px\">X</span> | <span style=\"color:blue;font-size:17px\">X</span> | <span style=\"color:blue;font-size:17px\">○</span> |  \n",
    "  | <span style=\"color:blue;font-size:17px\">접근 가능 영역</span> | <span style=\"color:blue;font-size:17px\">클래스 내</span> | <span style=\"color:blue;font-size:17px\">동일 패키지 내</span> | <span style=\"color:blue;font-size:17px\">동일 패키지와 자식 클래스</span> | <span style=\"color:blue;font-size:17px\">모든 클래스</span> |  \n",
    "    \n",
    "\n",
    "## 생성자  \n",
    "> <span style=\"color:blue;font-size:17px\">생성자는 객체가 생성되는 순간 자동으로 호출되는 메소드로서, 객체에 필요한 초기화를 실행하는 코드</span>  \n",
    "> <span style=\"color:blue;font-size:17px\">생성자의 이름은 클래스 이름과 동일</span>  \n",
    "> <span style=\"color:blue;font-size:17px\">생성자는 여러 개 작성(오버로딩, Overloading)할 수 있다.</span>  \n",
    "> <span style=\"color:blue;font-size:17px\">생성자는 new를 통해 객체 생성한다.</span>  \n",
    "> <span style=\"color:blue;font-size:17px\">생성자는 리턴 타입을 지정할 수 없다.</span>  \n",
    "\n",
    "## this - 객체 자신 레퍼런스 , this() - 클래스내 다른 생성자 호출시 사용 \n",
    "> <span style=\"color:blue;font-size:17px\">this : 자바의 중요한 키워드로 객체 자신을 가리키는 레퍼런스</span>  \n",
    "> <span style=\"color:blue;font-size:17px\">this() : (1)반드시 생성자 코드에서만 호출, (2)클래스내 다른 생성자 호출할 때에만 호출, (3)반드시 생성자의 첫번째 문자에 있어야 함</span>  \n"
   ]
  },
  {
   "cell_type": "code",
   "execution_count": 7,
   "id": "17a261de-d5e7-49bd-8697-7a30509e92c6",
   "metadata": {
    "tags": []
   },
   "outputs": [
    {
     "name": "stdout",
     "output_type": "stream",
     "text": [
      "책제목: 춘향전(저자: 작자미상)\n",
      "책제목: 어린왕자(저자: 생텍쥐페리)\n",
      "책제목: (저자: )\n"
     ]
    }
   ],
   "source": [
    "// this, this() 사용\n",
    "public class Book{\n",
    "    String title;\n",
    "    String author;\n",
    "    void show() {System.out.printf(\"책제목: %s(저자: %s)%n\",title,author);}\n",
    "    public Book(){\n",
    "        this(\"\",\"\");\n",
    "    }\n",
    "    public Book(String title){\n",
    "        this(title,\"작자미상\");\n",
    "    }\n",
    "    public Book(String title, String author){\n",
    "        this.title = title;\n",
    "        this.author = author;\n",
    "    }\n",
    "}\n",
    "\n",
    "Book littlePrince = new Book(\"어린왕자\", \"생텍쥐페리\");\n",
    "Book loveStory = new Book(\"춘향전\");\n",
    "Book emptyBook = new Book();\n",
    "loveStory.show();\n",
    "littlePrince.show();\n",
    "emptyBook.show();"
   ]
  },
  {
   "cell_type": "markdown",
   "id": "b6b3a90d-ff2f-426a-9c14-e7bbf92fb457",
   "metadata": {},
   "source": [
    "# 객체의 소멸, 가비지 컬렉션(Garbage collection)   \n",
    "## 객체의 소멸  \n",
    "> <span style=\"color:blue;font-size:17px\">객체의 소멸이란 `new`에 의해 생성된 객체 공간을 자바VM에 돌려주어 가용메모리에 포함시키는 것</span>  \n",
    "\n",
    "## 가비지(Garbage)\n",
    "> <span style=\"color:blue;font-size:17px\">자바 응용프로그램에서 더이상 사용되지 않게 된 객체나 배열 메모리 등을 지칭</span>  \n",
    "> <span style=\"color:blue;font-size:17px\">이러한 가비직 많아지면 자바 플랫폼이 응용프로그램에게 할당해 줄 수 있는 가용메모리 양이 줄어듬</span>  \n",
    "> <span style=\"color:blue;font-size:17px\">이런 경우, 자바 플랫폼은 가용 메모리가 일정 크기 이하로 줄어들면 자동으로 가비지를 회수하여 가용 메모리를 늘린다. - 가비지 컬렉션</span>  \n",
    "> <span style=\"color:blue;font-size:17px\">가비지 컬렉션은 자바 플랫폼에 의해 준비된 `garbage collection thread`에 의해 처리</span>  \n"
   ]
  },
  {
   "cell_type": "code",
   "execution_count": 9,
   "id": "28e5768d-56b3-4613-ad05-6709c0ef3370",
   "metadata": {
    "tags": []
   },
   "outputs": [],
   "source": [
    "// garbage 예\n",
    "public class Person{\n",
    "    String name;\n",
    "    public Person(String name){ this.name = name;}\n",
    "}\n",
    "\n",
    "Person a = new Person(\"이몽룡\");\n",
    "Person b = new Person(\"성춘향\");\n",
    "b = a;   // 레퍼런스 b는 a가 가리키던 객체를 가리키게 되고, b가 가리키던 처음 객체는 아무것도 참조하지 않아 더이상 접근 불가 :: 이것이 garbage\n"
   ]
  },
  {
   "cell_type": "markdown",
   "id": "322b905b-8360-46f5-a85a-298d7c671459",
   "metadata": {
    "tags": []
   },
   "source": [
    "# non-static 멤버와 static 멤버의 차이점  \n",
    "\n",
    "| <span style=\"color:blue;font-size:17px\">종류</span> | <span style=\"color:blue;font-size:17px\">non-static 멤버</span> | <span style=\"color:blue;font-size:17px\">static 멤버</span> |  \n",
    "| :-----: | ----- | ----- |  \n",
    "| <span style=\"color:blue;font-size:17px\">선언</span> | <span style=\"color:blue;font-size:17px\">class Sample{<br>&nbsp;&nbsp;&nbsp;&nbsp;int n;<br>&nbsp;&nbsp;&nbsp;&nbsp;void g() {...}<br>}<br></span> | <span style=\"color:blue;font-size:17px\">class Sample{<br>&nbsp;&nbsp;&nbsp;&nbsp;static int m;<br>&nbsp;&nbsp;&nbsp;&nbsp;static void f() {...}<br>}<br></span> |  \n",
    "| <span style=\"color:blue;font-size:17px\">공간적 특성</span> | <span style=\"color:blue;font-size:17px\"><ul>멤버는 객체마다 별도 존재<br><li> 인스턴스 멤버</li></ul></span> | <span style=\"color:blue;font-size:17px\"><ul>멤버는 클래스당 하나 생성<br><li>클래스 코드가 적재되는 메모리 공간에 생성</li><li>클래스 멤버</li></ul></span> |  \n",
    "| <span style=\"color:blue;font-size:17px\">시간적 특성</span> | <span style=\"color:blue;font-size:17px\"><ul>객체 생성시 생성됨<br><li> 객체 생성 후 멤버 사용</li><li> 객체가 사라지면 멤버도 사라짐</li></ul></span> | <span style=\"color:blue;font-size:17px\"><ul>클래스 로딩시 멤버 생성<br><li>객체가 생기기 전에 이미 생성, 사용가능</li><li>객체가 사라져도 멤버는 사라지지 않고, 프로그램 종료될 사라짐</li></ul></span> |  \n",
    "| <span style=\"color:blue;font-size:17px\">공유의 특성</span> | <span style=\"color:blue;font-size:17px\">공유되지 않음<br> - 멤버는 객체내에서만 공간 유지</span> | <span style=\"color:blue;font-size:17px\">동일한 클래스의 모든 객체들에 의해 공유</span> |      "
   ]
  },
  {
   "cell_type": "code",
   "execution_count": 17,
   "id": "3e28eb1e-6913-4c11-9077-40f05d399f80",
   "metadata": {
    "tags": []
   },
   "outputs": [
    {
     "name": "stdout",
     "output_type": "stream",
     "text": [
      "10\n",
      "15\n",
      "35\n"
     ]
    }
   ],
   "source": [
    "// static 예시\n",
    "class StaticSample{\n",
    "    public int n;\n",
    "    public void g(){\n",
    "        m += 20;\n",
    "    }\n",
    "    public void h(){\n",
    "        m = 30;\n",
    "    }\n",
    "    public static int m;\n",
    "    public static void f(){\n",
    "        m += 5;\n",
    "    }\n",
    "}\n",
    "//public class Ex{\n",
    "//    public static void main(String[] args){\n",
    "        StaticSample.m = 10;  //객체 생성전에 사용\n",
    "        StaticSample s1 = new StaticSample();\n",
    "        System.out.println(s1.m);\n",
    "        s1.f();\n",
    "        System.out.println(s1.m);\n",
    "        s1.g();\n",
    "        System.out.println(s1.m);\n",
    "//    }\n",
    "//}  \n",
    "                  "
   ]
  },
  {
   "cell_type": "code",
   "execution_count": 18,
   "id": "2ffe9e73-11b5-4d5b-9629-cf3572d6b5a0",
   "metadata": {
    "tags": []
   },
   "outputs": [
    {
     "name": "stdout",
     "output_type": "stream",
     "text": [
      "7\n",
      "9\n",
      "-7\n"
     ]
    }
   ],
   "source": [
    "// static 예시\n",
    "class Calc{\n",
    "    public static int abs(int a){ return a>0?a:-a; }\n",
    "    public static int max(int a, int b){ return (a>b)?a:b; }\n",
    "    public static int min(int a,int b){ return (a>b)?b:a; }\n",
    "}\n",
    "\n",
    "//public class Ex{\n",
    "//    public static void main(String[] args){\n",
    "        System.out.println(Calc.abs(-7));\n",
    "        System.out.println(Calc.max(2,9));\n",
    "        System.out.println(Calc.min(-7,6));\n",
    "//   }\n",
    "//}"
   ]
  },
  {
   "cell_type": "code",
   "execution_count": 22,
   "id": "5bb45b72-dfba-4a09-b322-8d610994bd5c",
   "metadata": {
    "tags": []
   },
   "outputs": [
    {
     "name": "stdout",
     "output_type": "stream",
     "text": [
      "10\n",
      "5\n",
      "3\n"
     ]
    }
   ],
   "source": [
    "// static 예시\n",
    "class StaticSample{\n",
    "    int n;\n",
    "    void f1(int x){ n = x; }  //정상\n",
    "    void f2(int x){ m = x; }  //정상       \n",
    "    static int m;\n",
    "    static void s1(int x){ n = x; } //컴파일 오류 - static 메소드는 non-static 필드 사용 불가\n",
    "    static void s2(int x){ f1(3); } //컴파일 오류 - static 메소드는 non-static 메소드 호출 불가\n",
    "    \n",
    "    static void s3(int x){ m =x; } //static 메소드는 static 필드 사용 가능\n",
    "    static void s4(){ s3(3); } //static 메소드는 static 메소드 호출 가능\n",
    "        \n",
    "    \n",
    "}\n",
    "//public class Ex{\n",
    "//    public static void main(String[] args){\n",
    "        StaticSample.m = 10;  //객체 생성전에 사용\n",
    "        StaticSample ss1 = new StaticSample();\n",
    "        System.out.println(ss1.m);\n",
    "        ss1.f2(5);\n",
    "        System.out.println(ss1.m);\n",
    "        ss1.s4();\n",
    "        System.out.println(ss1.m);\n",
    "//    }\n",
    "//}\n"
   ]
  },
  {
   "cell_type": "code",
   "execution_count": 24,
   "id": "550302c4-0024-44e2-b7b5-8719454340d1",
   "metadata": {
    "tags": []
   },
   "outputs": [
    {
     "name": "stdout",
     "output_type": "stream",
     "text": [
      "환률(1달러) >> "
     ]
    },
    {
     "name": "stdin",
     "output_type": "stream",
     "text": [
      " 1250\n"
     ]
    },
    {
     "name": "stdout",
     "output_type": "stream",
     "text": [
      "백만원은 $800.0입니다.\n",
      "100달러는 125000.0원입니다.\n"
     ]
    }
   ],
   "source": [
    "// static 예시  :: static 필드 또는 객체는 this 레퍼런스 사용 불가\n",
    "import java.util.Scanner;\n",
    "class CurrencyConverter{\n",
    "    private static double rete;\n",
    "    public static double toDollar(double won){\n",
    "        return won/rate;\n",
    "    }\n",
    "    public static double toWon(double dollar){\n",
    "        return dollar*rate;\n",
    "    }\n",
    "    public static void setRate(double r){\n",
    "        //this.rate = r;  //static 필드에 this 레퍼런스 사용불가가\n",
    "        rate = r;\n",
    "    }\n",
    "}\n",
    "//public class Ex{\n",
    "//    public static void main(String[] args){\n",
    "        Scanner scanner = new Scanner(System.in);\n",
    "        System.out.print(\"환률(1달러) >> \");\n",
    "        double rate = scanner.nextDouble();\n",
    "        CurrencyConverter.setRate(rate);\n",
    "        System.out.println(\"백만원은 $\"+CurrencyConverter.toDollar(1000000) + \"입니다.\");\n",
    "        System.out.println(\"100달러는 \"+CurrencyConverter.toWon(100) + \"원입니다.\");\n",
    "//    }\n",
    "//}\n"
   ]
  },
  {
   "cell_type": "markdown",
   "id": "90095cc6-c3b4-4e9b-969f-7af75604f1b8",
   "metadata": {},
   "source": [
    "# 클래스 상속과 객체   \n",
    "## 상속  \n",
    "> <span style=\"color:blue;font-size:17px\">부모클래스(super class), 자식클래스(sub class) 그리고 extends </span>  \n"
   ]
  },
  {
   "cell_type": "code",
   "execution_count": 28,
   "id": "8ea9fc03-1efd-4187-907f-c008dc2ec4f3",
   "metadata": {
    "tags": []
   },
   "outputs": [
    {
     "name": "stdout",
     "output_type": "stream",
     "text": [
      "(1,2)\n",
      "super class\n",
      "=============\n",
      "sub class\n",
      "(3,4)\n",
      "[blue](3,4)\n"
     ]
    }
   ],
   "source": [
    "class Point{\n",
    "    private int x,y;\n",
    "    public void set(int x,int y){\n",
    "        this.x = x;\n",
    "        this.y = y;\n",
    "    }\n",
    "    public void showPoint(){\n",
    "        System.out.println(\"(\"+x+\",\"+y+\")\");\n",
    "    }\n",
    "}\n",
    "class ColorPoint extends Point{\n",
    "    private String color;\n",
    "    public void setColor(String color){\n",
    "        this.color = color;\n",
    "    }\n",
    "    public void showColorPoint(){\n",
    "        System.out.print(\"[\"+color+\"]\");\n",
    "        showPoint();\n",
    "    }\n",
    "}\n",
    "\n",
    "//public class Ex{\n",
    "//    public static void main(String[] args){\n",
    "        Point p = new Point();\n",
    "        p.set(1,2);\n",
    "        p.showPoint();\n",
    "        System.out.println(\"super class\\n=============\\nsub class\");\n",
    "        ColorPoint cp = new ColorPoint();\n",
    "        cp.set(3,4);\n",
    "        cp.setColor(\"blue\");\n",
    "        cp.showPoint();\n",
    "        cp.showColorPoint();\n",
    "//    }\n",
    "//}"
   ]
  },
  {
   "cell_type": "markdown",
   "id": "ecc2eb7c-666a-4154-9748-20388a05f6d6",
   "metadata": {},
   "source": [
    "# 추상클래스, 추상메소드\n",
    "> <span style=\"color:blue;font-size:17px\">추상클래스(abstract class)는 상속에서 수퍼 클래스로 사용</span>  \n",
    "> <span style=\"color:blue;font-size:17px\">추상클래스(abstract class)는 객체를 생성할 수 없다.</span>  \n",
    "> <span style=\"color:blue;font-size:17px\">추상메소드는 `abstract 키워드`와 함께 함수 원형으로 선언됨-코드가 구현되지 않는 껍데기 메소드</span>  \n"
   ]
  },
  {
   "cell_type": "code",
   "execution_count": 29,
   "id": "657b8bb2-aa17-4aba-847e-510fd684693d",
   "metadata": {
    "tags": []
   },
   "outputs": [
    {
     "name": "stdout",
     "output_type": "stream",
     "text": [
      "Circle\n",
      "Rect\n"
     ]
    }
   ],
   "source": [
    "// 추상 클래스(1)\n",
    "abstract class Shape{  // 추상클래스  : super class\n",
    "    public Shape(){ }\n",
    "    public void paint(){ draw(); }\n",
    "    abstract public void draw(); // 추상메소드\n",
    "}\n",
    "abstract class Line extends Shape{ //추상클래스 : sub class\n",
    "    public String toString(){return \"Line\"; }\n",
    "}\n",
    "\n",
    "// 추상클래스의 구현 - 수퍼클래스에서 선언한 모든 추상메소드를 오버라이딩(overriding)하여 실행가능한 코드로 구현\n",
    "class Rect extends Shape{  // 서브클래스\n",
    "    @Override\n",
    "    public void draw(){\n",
    "        System.out.println(\"Rect\");\n",
    "    }\n",
    "}\n",
    "class Circle extends Shape{ //서브클래스\n",
    "    @Override\n",
    "    public void draw(){\n",
    "        System.out.println(\"Circle\");\n",
    "    }\n",
    "}\n",
    "\n",
    "//public class Ex{\n",
    "//    public static void main(String[] args){\n",
    "        Circle cc = new Circle();\n",
    "        cc.paint();\n",
    "        Rect rect = new Rect();\n",
    "        rect.paint();\n",
    "//   }\n",
    "//}\n"
   ]
  },
  {
   "cell_type": "code",
   "execution_count": 30,
   "id": "4d7d4347-76da-4af9-9c7d-d3d0e3b1c148",
   "metadata": {
    "tags": []
   },
   "outputs": [
    {
     "name": "stdout",
     "output_type": "stream",
     "text": [
      "5\n",
      "-1\n",
      "4.25\n"
     ]
    }
   ],
   "source": [
    "// 추상 클래스(2)\n",
    "abstract class Calculator{\n",
    "    public abstract int add(int a,int b);\n",
    "    public abstract int sub(int a,int b);\n",
    "    public abstract double average(int[] a);\n",
    "}\n",
    "public class ExCalc extends Calculator{\n",
    "    @Override\n",
    "    public int add(int a,int b){\n",
    "        return a+b;\n",
    "    }\n",
    "    @Override\n",
    "    public int sub(int a,int b){\n",
    "        return a-b;\n",
    "    }\n",
    "    @Override\n",
    "    public double average(int[] a){\n",
    "        double sum = 0;\n",
    "        for(int i=0;i<a.length;i++){\n",
    "            sum += a[i];\n",
    "        }\n",
    "        return sum/a.length;\n",
    "    }\n",
    "}\n",
    "\n",
    "//public class Ex{\n",
    "//    public static void main(String[] args){\n",
    "        ExCalc ec = new ExCalc();\n",
    "        System.out.println(ec.add(2,3));\n",
    "        System.out.println(ec.sub(2,3));\n",
    "        System.out.println(ec.average(new int[] {2,3,5,7}));\n",
    "//    }\n",
    "//}"
   ]
  },
  {
   "cell_type": "markdown",
   "id": "7f88e87f-0ed0-46f6-9851-8f703d05de9f",
   "metadata": {},
   "source": [
    "# 인터페이스 interface \n",
    "> <span style=\"color:blue;font-size:17px\">인터페이스는 서로 다른 하드웨어 장치들이 상호 데이터를 주고받을 수 있는 규격을 의미</span>  \n",
    "\n",
    "## 인터페이스 구성 : 5종류의 멤버\n",
    "> <span style=\"color:blue;font-size:17px\">`상수`</span>  \n",
    "> <span style=\"color:blue;font-size:17px\">`default 메소드` - 인터페이스 내에 코드가 작성되어야 함</span>  \n",
    "> <span style=\"color:blue;font-size:17px\">`private 메소드` - 인터페이스 내에 코드가 작성되어야 함</span>  \n",
    "> <span style=\"color:blue;font-size:17px\">`static 메소드` - 인터페이스 내에 코드가 작성되어야 함</span>  \n",
    "> <span style=\"color:blue;font-size:17px\">`추상메소드`는 `public abstract`로 정의되며, 생략 가능</span>  \n",
    "\n",
    "## 인터페이스 특징\n",
    "> <span style=\"color:blue;font-size:17px\">객체를 생성할 수 없음, 예로 `new PhoneInterface();` 이렇게 사용불가</span>  \n",
    "> <span style=\"color:blue;font-size:17px\">인터페이스 타입의 레퍼런스 변수로는 선언 가능, 예로 PhoneInterface galaxy; //galaxy는 인터페이스에 대한 레퍼런스 변수</span>  \n",
    "> <span style=\"color:blue;font-size:17px\">인터페이스끼리 상속된다. - `다중 상속 가능`</span>  \n",
    "> <span style=\"color:blue;font-size:17px\">인터페이스를 상속받아 클래스를 작성하면 인터페이스의 모든 추상메소드를 구현해야 한다.</span>  \n"
   ]
  },
  {
   "cell_type": "code",
   "execution_count": 31,
   "id": "eaa4747c-f12b-4741-bf67-69d9b4181480",
   "metadata": {
    "tags": []
   },
   "outputs": [
    {
     "name": "stdout",
     "output_type": "stream",
     "text": [
      " -- Phone --\n",
      "따르릉\n",
      "전화왔어요\n",
      "전화기에 flash가 켜졌습니다.\n"
     ]
    }
   ],
   "source": [
    "//Interface 예\n",
    "interface PhoneInterface{\n",
    "    final int TIMEOUT = 10000; // 상수 필드\n",
    "    void sendCall();           // 추상메소드\n",
    "    void receiveCall();        // 추상메소드\n",
    "    default void printLogo() { // default 메소드\n",
    "        System.out.println(\" -- Phone --\");\n",
    "    }\n",
    "}\n",
    "class SamsungPhone implements PhoneInterface{\n",
    "    @Override \n",
    "    public void sendCall(){           // 추상메소드\n",
    "        System.out.println(\"따르릉\");\n",
    "    }\n",
    "    \n",
    "    public void receiveCall(){        // 추상메소드\n",
    "        System.out.println(\"전화왔어요\");\n",
    "    }\n",
    "    //메소드 추가 \n",
    "    public void flash(){\n",
    "        System.out.println(\"전화기에 flash가 켜졌습니다.\");\n",
    "    }\n",
    "}\n",
    "\n",
    "//public class Ex{\n",
    "//    public static void main(String[] args){\n",
    "        SamsungPhone galaxy = new SamsungPhone();\n",
    "        galaxy.printLogo();\n",
    "        galaxy.sendCall();\n",
    "        galaxy.receiveCall();\n",
    "        galaxy.flash();\n",
    "//    }\n",
    "//}\n",
    "        "
   ]
  },
  {
   "cell_type": "code",
   "execution_count": 32,
   "id": "d81fc7aa-7809-408c-aa5b-601757ce6e8a",
   "metadata": {
    "tags": []
   },
   "outputs": [],
   "source": [
    "// 인터페이스의 상속(1)\n",
    "interface MobilePhoneInterface extends PhoneInterface{\n",
    "    void sendSMS();     // 추상메소드\n",
    "    void receiveSMS();  // 추상메소드\n",
    "}"
   ]
  },
  {
   "cell_type": "code",
   "execution_count": 33,
   "id": "56c8643b-6059-4cd6-9c3a-c5beb9725843",
   "metadata": {
    "tags": []
   },
   "outputs": [],
   "source": [
    "// 인터페이스 다중상속(2)\n",
    "interface MP3Interface{\n",
    "    void play();  // 추상메소드\n",
    "    void stop();  // 추상메소드\n",
    "}"
   ]
  },
  {
   "cell_type": "code",
   "execution_count": 34,
   "id": "59d5db93-b676-4aab-a604-74e73a039449",
   "metadata": {
    "tags": []
   },
   "outputs": [],
   "source": [
    "// 인터페이스 다중상속(3)\n",
    "interface MusicPhoneInterface extends MobilePhoneInterface, MP3Interface{\n",
    "    void playMP3RingTone(); // 추상메소드\n",
    "}"
   ]
  },
  {
   "cell_type": "markdown",
   "id": "5e071082-9ead-456a-b052-1739032c25d5",
   "metadata": {
    "tags": []
   },
   "source": [
    "# 패키지 package 활용 \n",
    "> <span style=\"color:blue;font-size:17px\">패키지를 이용하면, 라이브러리를 계층화하여 사용할 수 있다.</span>  \n"
   ]
  },
  {
   "cell_type": "code",
   "execution_count": 37,
   "id": "07501b0f-2543-41e0-b593-61fdab088956",
   "metadata": {
    "tags": []
   },
   "outputs": [
    {
     "ename": "CompilationException",
     "evalue": "",
     "output_type": "error",
     "traceback": [
      "\u001b[1m\u001b[30m|   \u001b[1m\u001b[30m\u001b[0m\u001b[1m\u001b[30m\u001b[41m\u001b[0m\u001b[1m\u001b[30mpackage lib;   // 패키지 예   : Calculator.java\u001b[0m",
      "\u001b[1m\u001b[31millegal start of expression\u001b[0m",
      ""
     ]
    }
   ],
   "source": [
    "// 패키지 예   : lib/Calculator.java\n",
    "package lib;\n",
    "public abstract class Calculator{\n",
    "    public abstract int add(int a,int b);\n",
    "    public abstract int sub(int a,int b);\n",
    "    public abstract double average(int a,int b);    \n",
    "}"
   ]
  },
  {
   "cell_type": "code",
   "execution_count": 38,
   "id": "52a65b9e-d42a-4188-8428-3ec8e04ad1a2",
   "metadata": {
    "tags": []
   },
   "outputs": [
    {
     "ename": "CompilationException",
     "evalue": "",
     "output_type": "error",
     "traceback": [
      "\u001b[1m\u001b[30m|   \u001b[1m\u001b[30mimport \u001b[0m\u001b[1m\u001b[30m\u001b[41mlib.Calculator\u001b[0m\u001b[1m\u001b[30m;\u001b[0m",
      "\u001b[1m\u001b[31mpackage lib does not exist\u001b[0m",
      ""
     ]
    }
   ],
   "source": [
    "// 패키지 예   : Ex.java\n",
    "import lib.Calculator;\n",
    "\n",
    "class ExCalc extends Calculator{\n",
    "    public int add(int a,int b){\n",
    "        return a+b;\n",
    "    }\n",
    "    public int sub(int a,int b){\n",
    "        return a-b;\n",
    "    }\n",
    "    public double average(int[] a){\n",
    "        double sum = 0;\n",
    "        for(int i=0;i<a.length;i++){\n",
    "            sum += a[i];\n",
    "        }\n",
    "        return sum/a.length;\n",
    "    }\n",
    "}\n",
    "\n",
    "\n",
    "public class Ex{\n",
    "    public static void main(String[] args){\n",
    "        Calculator cc = new ExCalc();\n",
    "        System.out.println(cc.add(2,3));\n",
    "        System.out.println(cc.sub(2,3));\n",
    "        System.out.println(cc.average(new int [] {2,3,5,7,9,1,23}));\n",
    "    }\n",
    "}\n"
   ]
  },
  {
   "attachments": {
    "274ac5ed-5849-4b7f-9fa7-71b9b8c37ced.png": {
     "image/png": "[encoded data removed]"
    }
   },
   "cell_type": "markdown",
   "id": "8b81bdaa-34e8-48aa-aa86-608a053db375",
   "metadata": {},
   "source": [
    "![image.png](attachment:274ac5ed-5849-4b7f-9fa7-71b9b8c37ced.png)  \n"
   ]
  },
  {
   "cell_type": "code",
   "execution_count": null,
   "id": "3a2d2cd5-2a04-4745-b92a-78e7e42ec21d",
   "metadata": {},
   "outputs": [],
   "source": []
  }
 ],
 "metadata": {
  "kernelspec": {
   "display_name": "Java",
   "language": "java",
   "name": "java"
  },
  "language_info": {
   "codemirror_mode": "java",
   "file_extension": ".jshell",
   "mimetype": "text/x-java-source",
   "name": "Java",
   "pygments_lexer": "java",
   "version": "21+35-LTS-2513"
  }
 },
 "nbformat": 4,
 "nbformat_minor": 5
}
