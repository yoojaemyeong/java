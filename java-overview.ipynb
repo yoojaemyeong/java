{
 "cells": [
  {
   "cell_type": "markdown",
   "id": "9d226327-4fb7-4e38-abc2-8c78c609aa3e",
   "metadata": {},
   "source": [
    "# 자바 : 객체 지향 - 캡슐화, 상속, 다형성  \n",
    "## 캡슐화(Encapsulation)  \n",
    "> <span style=\"color:blue;font-size:17px\">캡슐화란 객체를 캡슐로 싸서 내부를 보호하여 볼 수 없게 하는 것으로 객체의 본질적인 특징이다.</span>  \n",
    "> <span style=\"color:blue;font-size:17px\">class : 객체를 캡슐로 감싸는 표면</span>  \n",
    "> <span style=\"color:blue;font-size:17px\">필드 : 멤버 변수</span>  \n",
    "> <span style=\"color:blue;font-size:17px\">메소드 : 멤버 함수</span>  \n",
    "\n",
    "``` 클래스 \n",
    "class Animal {\n",
    "    String name;\n",
    "    int age;\n",
    "    void eat() {...}\n",
    "    void speak() {...}\n",
    "}\n",
    "```  \n",
    "## 상속(inheritance)  \n",
    "> <span style=\"color:blue;font-size:17px\">자바의 상속은 부모 클래스 속성을 자식 클래스가 물려받고 기능을 추가하여 확장(extends)하는 개념</span>  \n",
    "> <span style=\"color:blue;font-size:17px\">부모 클래스: 수퍼 클래스(super class) 지칭, 자식 클래스: 서브 클래스(sub class)</span>  \n",
    "> <span style=\"color:blue;font-size:17px\">상속: 수퍼 클래스의 필드와 메소드를 물려받아 코드를 재사용함으로 코드 작성의 시간과 비용을 절약</span>  \n",
    "\n",
    "``` 상속 \n",
    "class Animal {\n",
    "    String name;\n",
    "    int age;\n",
    "    void eat() {...}\n",
    "    void speak() {...}\n",
    "}\n",
    "\n",
    "class Dog extends Animal{\n",
    "    String color;\n",
    "    String working;\n",
    "    void shape() { ... }\n",
    "    void motion() { ... }\n",
    "}\n",
    "```  \n",
    "## 다형성(Polymorphism)  \n",
    "> <span style=\"color:blue;font-size:17px\">다형성은 같은 이름의 메소드가 클래스(객체)에 따라 다르게 동작하도록 구현되는 것을 의미</span>  \n",
    "> <span style=\"color:blue;font-size:17px\">예로, Animal 클래스를 상속받고, 소리내기(speak()) 메소드를 통해 강아지는 멍멍, 고양이는 야옹, 닭은 꼬꼬 등으로 구현</span>  \n",
    "> <span style=\"color:blue;font-size:17px\">오버라이딩(Overriding) : 위의 예처럼 자신의 특징에 맞게 구현하는 메소드</span>  \n",
    "> <span style=\"color:blue;font-size:17px\">오버로딩(Overloading) : 클래스내에 이름은 같지만 서로 다른 동작하는 메소드를 여러개 만드는 형태</span>  \n",
    "\n"
   ]
  },
  {
   "cell_type": "markdown",
   "id": "82df3498-fcba-466d-9572-ac986b7a22ba",
   "metadata": {},
   "source": [
    "# 클래스 : 필드, 메소드, 접근 지정자(public, private, protected, default), 생성자    \n",
    "## 생성자  \n",
    "> <span style=\"color:blue;font-size:17px\">캡슐화란 객체를 캡슐로 싸서 내부를 보호하여 볼 수 없게 하는 것으로 객체의 본질적인 특징이다.</span>  \n",
    "> <span style=\"color:blue;font-size:17px\">class : 객체를 캡슐로 감싸는 표면</span>"
   ]
  },
  {
   "cell_type": "code",
   "execution_count": null,
   "id": "f3fc248d-47dc-48a5-b9db-7091cb70ec04",
   "metadata": {},
   "outputs": [],
   "source": []
  }
 ],
 "metadata": {
  "kernelspec": {
   "display_name": "Java",
   "language": "java",
   "name": "java"
  },
  "language_info": {
   "codemirror_mode": "java",
   "file_extension": ".jshell",
   "mimetype": "text/x-java-source",
   "name": "Java",
   "pygments_lexer": "java",
   "version": "21+35-LTS-2513"
  }
 },
 "nbformat": 4,
 "nbformat_minor": 5
}
