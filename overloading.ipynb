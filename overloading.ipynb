{
 "cells": [
  {
   "cell_type": "markdown",
   "id": "315a1dc3-dd6e-4711-a7f5-25cdd69fb57c",
   "metadata": {},
   "source": [
    "# 다중정의는 신중히 사용하기  \n",
    "## 다음 컬렉션을 집합, 리스트, 그 외로 구분하고자 만든 프로그램    "
   ]
  },
  {
   "cell_type": "code",
   "execution_count": 10,
   "id": "c0a1cd2a-5607-4262-8aa2-e365d8884e11",
   "metadata": {
    "tags": []
   },
   "outputs": [
    {
     "name": "stdout",
     "output_type": "stream",
     "text": [
      "포도주\n",
      "발포성 포도주\n",
      "샴페인\n"
     ]
    }
   ],
   "source": [
    "class Wine{\n",
    "    String name(){ return \"포도주\"; }\n",
    "}\n",
    "class SparklingWine extends Wine{\n",
    "    @Override String name() { return \"발포성 포도주\"; }\n",
    "}\n",
    "class Champagne extends SparklingWine{\n",
    "    @Override String name() { return \"샴페인\"; }\n",
    "}\n",
    "//public class Overriding {\n",
    "//    public static void main(String[] args){\n",
    "        List<Wine> wineList  = List.of(\n",
    "            new Wine(), new SparklingWine(), new Champagne());\n",
    "        for (Wine wine : wineList)\n",
    "            System.out.println(wine.name());\n",
    "//    }\n",
    "//}"
   ]
  },
  {
   "cell_type": "markdown",
   "id": "0faaefc8-523e-4e86-ad37-9307db39dd23",
   "metadata": {},
   "source": [
    "## 아래의 코드는 무엇이 문제일까?"
   ]
  },
  {
   "cell_type": "code",
   "execution_count": 9,
   "id": "c95b270f-2776-45ef-97c9-01b00765548b",
   "metadata": {
    "tags": []
   },
   "outputs": [
    {
     "name": "stdout",
     "output_type": "stream",
     "text": [
      "그 외\n",
      "그 외\n",
      "그 외\n"
     ]
    }
   ],
   "source": [
    "import java.util.*;\n",
    "class CollectionClassifier{\n",
    "    public static String classify(Set<?> s){\n",
    "        return \"집합\";\n",
    "    }\n",
    "    \n",
    "    public static String classify(List<?> lst){\n",
    "        return \"리스트\";\n",
    "    }\n",
    "    \n",
    "    public static String classify(Collection<?> c){\n",
    "        return \"그 외\";\n",
    "    }\n",
    "}\n",
    "//class Ex{\n",
    "//    public static void main(String[] args){\n",
    "        Collection<?>[] collections = {\n",
    "            new HashSet<String>(),\n",
    "            new ArrayList<BigInteger>(),\n",
    "            new HashMap<String,String>().values()\n",
    "        };\n",
    "        for (Collection<?> c : collections)\n",
    "            System.out.println(CollectionClassifier.classify(c));\n",
    "//   }\n",
    "//}\n",
    "    "
   ]
  },
  {
   "cell_type": "markdown",
   "id": "ad0b15a4-09fa-4ad8-9129-54e2675cc0b0",
   "metadata": {},
   "source": [
    "## 원인    \n",
    "  1. 다중정의(Overloading)된 세 classify 메소드 중 어느 메서드를 호출할지 컴파일 Time에 정해짐  \n",
    "  2. 컴파일타임에는 for문 안의 `Collection<?> c` 타입이므로, 런Time에 달라짐  \n",
    "  3. 그래서 컴파일타임의 매개변수 타입을 기준으로 항상 세번째 메서드 `classify(Collection<?> c)`만 호출\n",
    "\n",
    "## 해결방법  \n",
    "  - <span style=\"color:blue;font-size:17px\">다중정의가 혼동을 일으키는 상황을 피해야 함</span>  \n",
    "  - <span style=\"color:blue;font-size:17px\">가능하다면 다중정의하는 대신 메서드 이름을 다르게 줄 것</span>    \n",
    "    "
   ]
  },
  {
   "cell_type": "code",
   "execution_count": 11,
   "id": "3e5f5769-c741-45ac-a7b1-6cdd9d814150",
   "metadata": {
    "tags": []
   },
   "outputs": [
    {
     "name": "stdout",
     "output_type": "stream",
     "text": [
      "집합\n",
      "리스트\n",
      "그 외\n"
     ]
    }
   ],
   "source": [
    "import java.util.*;\n",
    "class CollectionClassifier{    \n",
    "    public static String classify(Collection<?> c){\n",
    "        return c instanceof Set ? \"집합\" : \n",
    "               c instanceof List ? \"리스트\" : \"그 외\";\n",
    "    }\n",
    "}\n",
    "//class Ex{\n",
    "//    public static void main(String[] args){\n",
    "        Collection<?>[] collections = {\n",
    "            new HashSet<String>(),\n",
    "            new ArrayList<BigInteger>(),\n",
    "            new HashMap<String,String>().values()\n",
    "        };\n",
    "        for (Collection<?> c : collections)\n",
    "            System.out.println(CollectionClassifier.classify(c));\n",
    "//   }\n",
    "//}"
   ]
  },
  {
   "cell_type": "markdown",
   "id": "85def8ea-53e0-419f-81f6-df2b1c34bd65",
   "metadata": {},
   "source": [
    "# 다중정의의 또다른 문제\n",
    "## 아래 코드를 실행할 때 무엇을 기대하는가?"
   ]
  },
  {
   "cell_type": "code",
   "execution_count": 18,
   "id": "5d625a22-1059-49fb-bcc3-334bbdd81049",
   "metadata": {
    "tags": []
   },
   "outputs": [
    {
     "name": "stdout",
     "output_type": "stream",
     "text": [
      "set:[-3, -2, -1]\n",
      "lst:[-2, 0, 2]\n"
     ]
    }
   ],
   "source": [
    "//public class SetList {\n",
    "//    public static void main(String[] args){\n",
    "        Set<Integer> set = new TreeSet<>();\n",
    "        List<Integer> lst = new ArrayList<>();\n",
    "        \n",
    "        for (int i = -3; i<3;i++){\n",
    "            set.add(i);\n",
    "            lst.add(i);\n",
    "        }\n",
    "        \n",
    "        for (int i = 0; i<3;i++){\n",
    "            set.remove(i);\n",
    "            lst.remove(i);\n",
    "        }\n",
    "        System.out.println(\"set:\"+ set + \"\\nlst:\" + lst);\n",
    "//    }\n",
    "//}\n"
   ]
  },
  {
   "cell_type": "markdown",
   "id": "9754f722-795f-4419-ae17-811d251f5c79",
   "metadata": {},
   "source": [
    "## 예상되는 값은  \n",
    "  - set: [-3, -2, -1]  \n",
    "  - lst: [-3, -2, -1]  \n",
    "## 그런데  \n",
    "  - set: [-3, -2, -1]  \n",
    "  - lst: [-2, 0, 2]  \n",
    "  \n",
    "## 원인파악  \n",
    "  * <span style=\"color:green;font-size:17px;\"> set.remove(i)의 원형은 remove(Object) 다중정의된 다른 메서드가 없으니 기대대로 동작</span>  \n",
    "  * <span style=\"color:red;font-size:17px;\"> list.remove(i)는 다중정의된 remove(int index)를 선택하여 remove의 `지정한 위치`의 원소 제거 수행</span>  \n",
    "  * <span style=\"color:green;font-size:17px;\"> lst 원소: [-3, -2, -1, 0, 1, 2]에서 차례로 0번째, 1번째, 2번째 원소 제거하여 [-2, 0, 2] 결과 얻음 </span>  \n"
   ]
  },
  {
   "cell_type": "code",
   "execution_count": null,
   "id": "a2028a7a-d894-4b45-baec-a9de12075a78",
   "metadata": {},
   "outputs": [],
   "source": []
  }
 ],
 "metadata": {
  "kernelspec": {
   "display_name": "Java",
   "language": "java",
   "name": "java"
  },
  "language_info": {
   "codemirror_mode": "java",
   "file_extension": ".jshell",
   "mimetype": "text/x-java-source",
   "name": "Java",
   "pygments_lexer": "java",
   "version": "21+35-LTS-2513"
  }
 },
 "nbformat": 4,
 "nbformat_minor": 5
}
