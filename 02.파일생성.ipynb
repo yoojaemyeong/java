{
 "cells": [
  {
   "cell_type": "code",
   "execution_count": null,
   "id": "a2c4664f-2269-4c90-8358-72ff61e117d3",
   "metadata": {},
   "outputs": [],
   "source": [
    "%%writefile ScannerEx.java\n",
    "import java.util.Scanner;\n",
    "class ScannerEx{\n",
    "    public static void main(String[] args){\n",
    "        Scanner s = new Scanner(System.in);\n",
    "        System.out.print(\"이름:\");\n",
    "        String name = s.nextLine();\n",
    "        System.out.print(\"나이:\");\n",
    "        while(!s.hasNextInt()){\n",
    "            System.out.print(\"정수로 다시 입력:\");\n",
    "            s.next();\n",
    "        }\n",
    "        int age = s.nextInt();\n",
    "        System.out.printf(\"당신의 이름은 %s, 나이는 %d입니다.\\n\",name, age);\n",
    "    }\n",
    "}"
   ]
  },
  {
   "cell_type": "code",
   "execution_count": null,
   "id": "114d0cee-94ba-4b98-8ea5-51ca7ff7b7ff",
   "metadata": {},
   "outputs": [],
   "source": [
    "#컴파일\n",
    "!javac ScannerEx.java"
   ]
  },
  {
   "cell_type": "code",
   "execution_count": null,
   "id": "a48b5ada-9c6c-4993-b3c5-429288a411ba",
   "metadata": {},
   "outputs": [],
   "source": [
    "#생성 상태 보기\n",
    "!ls | grep Scanner"
   ]
  },
  {
   "cell_type": "markdown",
   "id": "2e507824-2bf5-488e-9c3c-bd50183fe525",
   "metadata": {},
   "source": [
    "## 실행은 명령창에서 진행"
   ]
  },
  {
   "cell_type": "code",
   "execution_count": null,
   "id": "bc9ec9e3-2097-4aea-83a3-0ed5a130e72f",
   "metadata": {},
   "outputs": [],
   "source": []
  },
  {
   "cell_type": "markdown",
   "id": "78ee61df-0cde-47d8-bdf7-f08b238fdd81",
   "metadata": {},
   "source": [
    "# 03.java-overview.ipynb 파일 내용 수행"
   ]
  },
  {
   "cell_type": "code",
   "execution_count": null,
   "id": "dde57368-9dee-4b61-b8a2-cda61b2c74d8",
   "metadata": {},
   "outputs": [],
   "source": [
    "#1. lib 폴더 만들기\n",
    "!mkdir lib"
   ]
  },
  {
   "cell_type": "code",
   "execution_count": 16,
   "id": "46764209-5db4-4eb5-b92a-87d63527cb0b",
   "metadata": {},
   "outputs": [
    {
     "name": "stdout",
     "output_type": "stream",
     "text": [
      "Overwriting lib/Calculator.java\n"
     ]
    }
   ],
   "source": [
    "%%writefile lib/Calculator.java\n",
    "//2.추상클래스 Calculator.java 파일 만들기\n",
    "package lib;\n",
    "public abstract class Calculator{\n",
    "    public abstract int add(int a,int b);\n",
    "    public abstract int sub(int a,int b);\n",
    "    public abstract double average(int[] a);    \n",
    "}"
   ]
  },
  {
   "cell_type": "code",
   "execution_count": 17,
   "id": "d8be273e-3354-43fe-acb8-709440810b04",
   "metadata": {},
   "outputs": [],
   "source": [
    "#3. 컴파일\n",
    "!javac lib/Calculator.java"
   ]
  },
  {
   "cell_type": "code",
   "execution_count": null,
   "id": "1e6350a9-bfe7-49db-a363-9de7fb557207",
   "metadata": {},
   "outputs": [],
   "source": [
    "#4. 실행결과 확인하기\n",
    "!ls lib/"
   ]
  },
  {
   "cell_type": "code",
   "execution_count": 18,
   "id": "4c6a3995-6f8f-473e-bdba-69e0147ee4be",
   "metadata": {},
   "outputs": [
    {
     "name": "stdout",
     "output_type": "stream",
     "text": [
      "Overwriting Ex.java\n"
     ]
    }
   ],
   "source": [
    "%%writefile Ex.java\n",
    "//5. 활용 예시\n",
    "import lib.Calculator;\n",
    "\n",
    "class ExCalc extends Calculator{\n",
    "    public int add(int a,int b){\n",
    "        return a+b;\n",
    "    }\n",
    "    public int sub(int a,int b){\n",
    "        return a-b;\n",
    "    }\n",
    "    public double average(int[] a){\n",
    "        double sum = 0;\n",
    "        for(int i=0;i<a.length;i++){\n",
    "            sum += a[i];\n",
    "        }\n",
    "        return sum/a.length;\n",
    "    }\n",
    "}\n",
    "\n",
    "\n",
    "public class Ex{\n",
    "    public static void main(String[] args){\n",
    "        Calculator cc = new ExCalc();\n",
    "        System.out.println(cc.add(2,3));\n",
    "        System.out.println(cc.sub(2,3));\n",
    "        System.out.println(cc.average(new int [] {2,3,5,7,9,1,23}));\n",
    "    }\n",
    "}"
   ]
  },
  {
   "cell_type": "code",
   "execution_count": 19,
   "id": "e5a5a653-7964-419b-9bab-c39fa292c6aa",
   "metadata": {},
   "outputs": [],
   "source": [
    "#6. Ex.java 컴파일\n",
    "!javac Ex.java"
   ]
  },
  {
   "cell_type": "code",
   "execution_count": 20,
   "id": "c30a0f2b-41e8-4d20-8665-8949939e8df2",
   "metadata": {},
   "outputs": [
    {
     "name": "stdout",
     "output_type": "stream",
     "text": [
      "5\n",
      "-1\n",
      "7.142857142857143\n"
     ]
    }
   ],
   "source": [
    "#7. 결과 확인\n",
    "!java Ex"
   ]
  },
  {
   "cell_type": "code",
   "execution_count": null,
   "id": "575e940a-7bb7-4498-9e34-670ad1a84881",
   "metadata": {},
   "outputs": [],
   "source": []
  }
 ],
 "metadata": {
  "kernelspec": {
   "display_name": "Python 3 (ipykernel)",
   "language": "python",
   "name": "python3"
  },
  "language_info": {
   "codemirror_mode": {
    "name": "ipython",
    "version": 3
   },
   "file_extension": ".py",
   "mimetype": "text/x-python",
   "name": "python",
   "nbconvert_exporter": "python",
   "pygments_lexer": "ipython3",
   "version": "3.11.6"
  }
 },
 "nbformat": 4,
 "nbformat_minor": 5
}
