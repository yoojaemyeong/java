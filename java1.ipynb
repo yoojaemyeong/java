{
 "cells": [
  {
   "cell_type": "markdown",
   "id": "3d686830-707c-4cd0-9444-1b1efb886c4f",
   "metadata": {},
   "source": [
    "# 메서드와 데이터를 갖는 열거 타입 1\n",
    "> 열거타입 상수 및 함수, 에러에 대한 내용  \n",
    "> 이 코드의 문제는 컴파일은 되지만 새로 추가한 연산을 수행하려 할 때 \"알 수 없는 연산\"으로 런타임 오류로 프로그램 종료"
   ]
  },
  {
   "cell_type": "code",
   "execution_count": 17,
   "id": "8daa8e7a-0b88-4595-b951-699f5f930336",
   "metadata": {
    "tags": []
   },
   "outputs": [
    {
     "name": "stdout",
     "output_type": "stream",
     "text": [
      "2.000000 PLUS 4.000000 = 6.000000\n",
      "2.000000 MINUS 4.000000 = -2.000000\n",
      "2.000000 TIMES 4.000000 = 8.000000\n",
      "2.000000 DIVIDE 4.000000 = 0.500000\n"
     ]
    }
   ],
   "source": [
    "public enum Operation{\n",
    "    PLUS,MINUS,TIMES,DIVIDE;\n",
    "    // 상수 연산 수행\n",
    "    public double apply(double x,double y){\n",
    "        switch(this){\n",
    "            case PLUS: return x + y;\n",
    "            case MINUS: return x - y;\n",
    "            case TIMES: return x * y;\n",
    "            case DIVIDE: return x / y;\n",
    "        }\n",
    "        throw new AssertionError(\"알 수 없는 연산: \" + this);\n",
    "    }\n",
    "}\n",
    "//public static void main(String[] args){\n",
    "    double x = Double.parseDouble(\"2.0\");\n",
    "    double y = Double.parseDouble(\"4.0\");\n",
    "    for (Operation op : Operation.values())\n",
    "        System.out.printf(\"%f %s %f = %f%n\", x, op, y, op.apply(x,y));    \n",
    "//}"
   ]
  },
  {
   "cell_type": "markdown",
   "id": "a224992e-b1ff-4eb4-8ae6-11c12e87c3a5",
   "metadata": {},
   "source": [
    "# 상수별 메서드 구현을 활용한 열거타입 2\n",
    "> 위 코드에서 생기는 문제를 추상메서드로 재정의 가능  \n",
    "> 재정의는 가능하나 여전히 컴파일 오류 문제 있음"
   ]
  },
  {
   "cell_type": "code",
   "execution_count": 18,
   "id": "3510d7ea-b80f-4a26-9b47-c590c22337c2",
   "metadata": {
    "tags": []
   },
   "outputs": [
    {
     "name": "stdout",
     "output_type": "stream",
     "text": [
      "2.000000 PLUS 4.000000 = 6.000000\n",
      "2.000000 MINUS 4.000000 = -2.000000\n",
      "2.000000 TIMES 4.000000 = 8.000000\n",
      "2.000000 DIVIDE 4.000000 = 0.500000\n"
     ]
    }
   ],
   "source": [
    "public enum Operation{\n",
    "    PLUS {public double apply(double x, double y) { return x + y;}},\n",
    "    MINUS {public double apply(double x, double y) { return x - y;}},\n",
    "    TIMES {public double apply(double x, double y) { return x * y;}},\n",
    "    DIVIDE {public double apply(double x, double y) { return x / y;}};\n",
    "    public abstract double apply(double x,double y);\n",
    "}\n",
    "//public static void main(String[] args){\n",
    "    double x = Double.parseDouble(\"2.0\");\n",
    "    double y = Double.parseDouble(\"4.0\");\n",
    "    for (Operation op : Operation.values())\n",
    "        System.out.printf(\"%f %s %f = %f%n\", x, op, y, op.apply(x,y));    \n",
    "//}"
   ]
  },
  {
   "cell_type": "markdown",
   "id": "b3b5471e-6de7-4ccd-93aa-13d7071e431d",
   "metadata": {
    "tags": []
   },
   "source": [
    "# 상수별 클래스 몸체(class body)와 데이터를 사용한 열거 타입 3\n",
    "> 가장 안정적인 열거 타입을 보여줌  \n",
    "> 명령줄에 2와 4를 입력하면 toString이 계산식 출력을 보여줌  \n",
    "> \n",
    "\n"
   ]
  },
  {
   "cell_type": "code",
   "execution_count": 19,
   "id": "cb6522cb-c5a0-4854-b120-3489d868bf62",
   "metadata": {
    "tags": []
   },
   "outputs": [
    {
     "name": "stdout",
     "output_type": "stream",
     "text": [
      "2.000000 + 4.000000 = 6.000000\n",
      "2.000000 - 4.000000 = -2.000000\n",
      "2.000000 * 4.000000 = 8.000000\n",
      "2.000000 / 4.000000 = 0.500000\n"
     ]
    }
   ],
   "source": [
    "public enum Operation{\n",
    "    PLUS(\"+\") {public double apply(double x, double y) { return x + y;}},\n",
    "    MINUS(\"-\") {public double apply(double x, double y) { return x - y;}},\n",
    "    TIMES(\"*\") {public double apply(double x, double y) { return x * y;}},\n",
    "    DIVIDE(\"/\") {public double apply(double x, double y) { return x / y;}};\n",
    "    private final String symbol;\n",
    "    \n",
    "    Operation(String symbol){ this.symbol = symbol; }\n",
    "    \n",
    "    @Override public String toString(){ return symbol;}    \n",
    "    public abstract double apply(double x,double y);\n",
    "}\n",
    "//public static void main(String[] args){\n",
    "    double x = Double.parseDouble(\"2.0\");\n",
    "    double y = Double.parseDouble(\"4.0\");\n",
    "    for (Operation op : Operation.values())\n",
    "        System.out.printf(\"%f %s %f = %f%n\", x, op, y, op.apply(x,y));    \n",
    "//}"
   ]
  },
  {
   "cell_type": "code",
   "execution_count": null,
   "id": "5e95cabd-fba1-405d-afed-9a8c38960178",
   "metadata": {},
   "outputs": [],
   "source": []
  }
 ],
 "metadata": {
  "kernelspec": {
   "display_name": "Java",
   "language": "java",
   "name": "java"
  },
  "language_info": {
   "codemirror_mode": "java",
   "file_extension": ".jshell",
   "mimetype": "text/x-java-source",
   "name": "Java",
   "pygments_lexer": "java",
   "version": "21+35-LTS-2513"
  }
 },
 "nbformat": 4,
 "nbformat_minor": 5
}
