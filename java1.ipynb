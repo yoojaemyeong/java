{
 "cells": [
  {
   "cell_type": "code",
   "execution_count": null,
   "id": "8daa8e7a-0b88-4595-b951-699f5f930336",
   "metadata": {},
   "outputs": [],
   "source": [
    "public enum Operation{\n",
    "    PLUS,MINUS,TIMES,DIVIDE;\n",
    "    // 상수 연산 수행\n",
    "    public double apply(double x,double y){\n",
    "        switch(this){\n",
    "            case PLUS: return x+y;\n",
    "            case PLUS: return x+y;\n",
    "            case PLUS: return x+y;\n",
    "            case PLUS: return x+y;\n",
    "        }\n",
    "        throw new AssertionError(\"\n",
    "}\n"
   ]
  },
  {
   "cell_type": "code",
   "execution_count": null,
   "id": "3510d7ea-b80f-4a26-9b47-c590c22337c2",
   "metadata": {},
   "outputs": [],
   "source": [
    "public enum Operation{\n",
    "    PLUS {public double apply(double x, double y) { return x + y;}},\n",
    "    MINUS {public double apply(double x, double y) { return x - y;}},\n",
    "    TIMES {public double apply(double x, double y) { return x * y;}},\n",
    "    DIVIDE {public double apply(double x, double y) { return x / y;}};\n",
    "    public abstract double apply(double x,double y);\n",
    "}\n"
   ]
  },
  {
   "cell_type": "code",
   "execution_count": null,
   "id": "3d45b88c-35cf-4251-8759-38f9449b8fa6",
   "metadata": {},
   "outputs": [],
   "source": []
  }
 ],
 "metadata": {
  "kernelspec": {
   "display_name": "Java",
   "language": "java",
   "name": "java"
  },
  "language_info": {
   "codemirror_mode": "java",
   "file_extension": ".jshell",
   "mimetype": "text/x-java-source",
   "name": "Java",
   "pygments_lexer": "java",
   "version": "21+35-LTS-2513"
  }
 },
 "nbformat": 4,
 "nbformat_minor": 5
}
